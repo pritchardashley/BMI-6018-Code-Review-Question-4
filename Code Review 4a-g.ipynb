{
 "cells": [
  {
   "cell_type": "code",
   "execution_count": null,
   "id": "4e2beaab-d0a0-4ee6-a2fe-b03f7ecf62f2",
   "metadata": {},
   "outputs": [],
   "source": [
    "#Code Review \n",
    "#Complex Data Types 4a-4g"
   ]
  },
  {
   "cell_type": "code",
   "execution_count": null,
   "id": "2287348b-afa0-43b1-9cfc-483f9f7bee89",
   "metadata": {},
   "outputs": [],
   "source": [
    "4.a Create a variable of type int with the value of 8\n",
    " .b Create an empty list \n",
    " .c Using type(), add the type of 4.a to this list\n",
    " .d Add 0.39 to 4.c\n",
    " .e append the type of 0.39 to the list\n",
    " .f exponentiate to the -10, ie: 4.d^-10,(hint: there might be an artihmetic operator to do so) round it to no \n",
    "    decimal places, and append to list.\n",
    " .g append the type to the list"
   ]
  },
  {
   "cell_type": "code",
   "execution_count": 1,
   "id": "452ccd75-65df-4798-ae06-b4490aa96cc6",
   "metadata": {},
   "outputs": [
    {
     "name": "stdout",
     "output_type": "stream",
     "text": [
      "8\n",
      "<class 'int'>\n"
     ]
    }
   ],
   "source": [
    "four_a = int(8)\n",
    "print(four_a)\n",
    "print(type(four_a))"
   ]
  },
  {
   "cell_type": "code",
   "execution_count": 2,
   "id": "d758d888-6f7d-4306-877e-438e11e062af",
   "metadata": {},
   "outputs": [],
   "source": [
    "four_b = []"
   ]
  },
  {
   "cell_type": "code",
   "execution_count": 3,
   "id": "7cde5a65-4724-44f2-a487-c1f5f831e774",
   "metadata": {},
   "outputs": [
    {
     "name": "stdout",
     "output_type": "stream",
     "text": [
      "[<class 'int'>]\n"
     ]
    }
   ],
   "source": [
    "#we need to append (add) the type of 4a (int) to the currently empty list\n",
    "four_c = four_b.append(type(four_a))\n",
    "print(four_b)"
   ]
  },
  {
   "cell_type": "code",
   "execution_count": 4,
   "id": "c30fc815-be26-4504-a8d5-8e4f8ab91cde",
   "metadata": {},
   "outputs": [
    {
     "name": "stdout",
     "output_type": "stream",
     "text": [
      "[<class 'int'>, 0.39]\n"
     ]
    }
   ],
   "source": [
    "#add 0.39 to 4c which is a list containing the type, int\n",
    "four_d = four_b.append(0.39)\n",
    "print(four_b)"
   ]
  },
  {
   "cell_type": "code",
   "execution_count": 5,
   "id": "e7705bff-a0f4-4306-a737-143049adc87c",
   "metadata": {},
   "outputs": [
    {
     "name": "stdout",
     "output_type": "stream",
     "text": [
      "<class 'float'>\n",
      "[<class 'int'>, 0.39, <class 'float'>]\n"
     ]
    }
   ],
   "source": [
    "#check the type of 0.39\n",
    "print(type(0.39))\n",
    "\n",
    "#append the type of 0.39 (float) to the list made in 4c\n",
    "four_e = four_b.append(type(0.39))\n",
    "print(four_b)"
   ]
  },
  {
   "cell_type": "code",
   "execution_count": 7,
   "id": "192feba7-4259-4b71-96ba-f8c6c6ba4837",
   "metadata": {},
   "outputs": [
    {
     "name": "stdout",
     "output_type": "stream",
     "text": [
      "12284\n",
      "[<class 'int'>, 0.39, <class 'float'>, 12284]\n"
     ]
    }
   ],
   "source": [
    "#exponate 0.39 to the -10, ** is a way to exponate though there are other methods\n",
    "four_f1 = 0.39 ** -10\n",
    "\n",
    "#round to the nearest whole number\n",
    "four_f2 = round(four_f1)\n",
    "print(four_f2)\n",
    "\n",
    "#append to the list\n",
    "four_f = four_b.append(four_f2)\n",
    "print(four_b)"
   ]
  },
  {
   "cell_type": "code",
   "execution_count": 8,
   "id": "43d68f3e-6035-4686-b3ea-90e00ed08855",
   "metadata": {},
   "outputs": [
    {
     "name": "stdout",
     "output_type": "stream",
     "text": [
      "<class 'int'>\n",
      "[<class 'int'>, 0.39, <class 'float'>, 12284, <class 'int'>]\n"
     ]
    }
   ],
   "source": [
    "#check the type of 12284\n",
    "print(type(four_f2))\n",
    "\n",
    "#append type to the list\n",
    "four_g = four_b.append(type(four_f2))\n",
    "print(four_b)"
   ]
  }
 ],
 "metadata": {
  "kernelspec": {
   "display_name": "Python 3 (ipykernel)",
   "language": "python",
   "name": "python3"
  },
  "language_info": {
   "codemirror_mode": {
    "name": "ipython",
    "version": 3
   },
   "file_extension": ".py",
   "mimetype": "text/x-python",
   "name": "python",
   "nbconvert_exporter": "python",
   "pygments_lexer": "ipython3",
   "version": "3.12.4"
  }
 },
 "nbformat": 4,
 "nbformat_minor": 5
}
